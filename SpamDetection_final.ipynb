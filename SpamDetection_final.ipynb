{
 "cells": [
  {
   "cell_type": "code",
   "execution_count": 1,
   "id": "17f4a87d",
   "metadata": {
    "collapsed": false,
    "jupyter": {
     "outputs_hidden": false
    },
    "pycharm": {
     "name": "#%%\n"
    }
   },
   "outputs": [],
   "source": [
    "import pandas as pd\n",
    "import re  # RegEx"
   ]
  },
  {
   "cell_type": "code",
   "execution_count": 2,
   "id": "f2d783d4",
   "metadata": {
    "collapsed": false,
    "jupyter": {
     "outputs_hidden": false
    },
    "pycharm": {
     "name": "#%%\n"
    }
   },
   "outputs": [
    {
     "name": "stdout",
     "output_type": "stream",
     "text": [
      "(5171, 4)\n"
     ]
    },
    {
     "data": {
      "text/html": [
       "<div>\n",
       "<style scoped>\n",
       "    .dataframe tbody tr th:only-of-type {\n",
       "        vertical-align: middle;\n",
       "    }\n",
       "\n",
       "    .dataframe tbody tr th {\n",
       "        vertical-align: top;\n",
       "    }\n",
       "\n",
       "    .dataframe thead th {\n",
       "        text-align: right;\n",
       "    }\n",
       "</style>\n",
       "<table border=\"1\" class=\"dataframe\">\n",
       "  <thead>\n",
       "    <tr style=\"text-align: right;\">\n",
       "      <th></th>\n",
       "      <th>anon</th>\n",
       "      <th>Label</th>\n",
       "      <th>Mail</th>\n",
       "      <th>label_num</th>\n",
       "    </tr>\n",
       "  </thead>\n",
       "  <tbody>\n",
       "    <tr>\n",
       "      <th>0</th>\n",
       "      <td>605</td>\n",
       "      <td>ham</td>\n",
       "      <td>Subject: enron methanol ; meter # : 988291\\r\\n...</td>\n",
       "      <td>0</td>\n",
       "    </tr>\n",
       "    <tr>\n",
       "      <th>1</th>\n",
       "      <td>2349</td>\n",
       "      <td>ham</td>\n",
       "      <td>Subject: hpl nom for january 9 , 2001\\r\\n( see...</td>\n",
       "      <td>0</td>\n",
       "    </tr>\n",
       "    <tr>\n",
       "      <th>2</th>\n",
       "      <td>3624</td>\n",
       "      <td>ham</td>\n",
       "      <td>Subject: neon retreat\\r\\nho ho ho , we ' re ar...</td>\n",
       "      <td>0</td>\n",
       "    </tr>\n",
       "    <tr>\n",
       "      <th>3</th>\n",
       "      <td>4685</td>\n",
       "      <td>spam</td>\n",
       "      <td>Subject: photoshop , windows , office . cheap ...</td>\n",
       "      <td>1</td>\n",
       "    </tr>\n",
       "    <tr>\n",
       "      <th>4</th>\n",
       "      <td>2030</td>\n",
       "      <td>ham</td>\n",
       "      <td>Subject: re : indian springs\\r\\nthis deal is t...</td>\n",
       "      <td>0</td>\n",
       "    </tr>\n",
       "  </tbody>\n",
       "</table>\n",
       "</div>"
      ],
      "text/plain": [
       "   anon Label                                               Mail  label_num\n",
       "0   605   ham  Subject: enron methanol ; meter # : 988291\\r\\n...          0\n",
       "1  2349   ham  Subject: hpl nom for january 9 , 2001\\r\\n( see...          0\n",
       "2  3624   ham  Subject: neon retreat\\r\\nho ho ho , we ' re ar...          0\n",
       "3  4685  spam  Subject: photoshop , windows , office . cheap ...          1\n",
       "4  2030   ham  Subject: re : indian springs\\r\\nthis deal is t...          0"
      ]
     },
     "execution_count": 2,
     "metadata": {},
     "output_type": "execute_result"
    }
   ],
   "source": [
    "# read the data\n",
    "data = pd.read_csv('spam_ham_dataset.csv',\n",
    "                   sep=',',\n",
    "                   header=0,\n",
    "                   names=['anon','Label', 'Mail', 'label_num'])\n",
    "\n",
    "# take a look at the data\n",
    "print(data.shape)\n",
    "data.head()"
   ]
  },
  {
   "cell_type": "code",
   "execution_count": 3,
   "id": "a1e84fde",
   "metadata": {},
   "outputs": [
    {
     "data": {
      "text/plain": [
       "ham     0.710114\n",
       "spam    0.289886\n",
       "Name: Label, dtype: float64"
      ]
     },
     "execution_count": 3,
     "metadata": {},
     "output_type": "execute_result"
    }
   ],
   "source": [
    "# check distribution of classes\n",
    "data['Label'].value_counts(normalize=True)"
   ]
  },
  {
   "cell_type": "code",
   "execution_count": 4,
   "id": "a699fed2",
   "metadata": {
    "collapsed": false,
    "jupyter": {
     "outputs_hidden": false
    },
    "pycharm": {
     "name": "#%%\n"
    }
   },
   "outputs": [
    {
     "data": {
      "text/plain": [
       "anon          int64\n",
       "Label        object\n",
       "Mail         object\n",
       "label_num     int64\n",
       "dtype: object"
      ]
     },
     "execution_count": 4,
     "metadata": {},
     "output_type": "execute_result"
    }
   ],
   "source": [
    "data.dtypes  # check dtypes"
   ]
  },
  {
   "cell_type": "code",
   "execution_count": 5,
   "id": "c3febe74",
   "metadata": {},
   "outputs": [
    {
     "name": "stdout",
     "output_type": "stream",
     "text": [
      "(3620, 4)\n",
      "(1551, 4)\n"
     ]
    }
   ],
   "source": [
    "# randomize the data\n",
    "data_randomized = data.sample(frac=1, random_state=1)\n",
    "\n",
    "# create split index\n",
    "train_test_index = round(len(data_randomized) * 0.7)\n",
    "\n",
    "# split into train and test data\n",
    "train_data = data_randomized[:train_test_index].reset_index(drop=True)\n",
    "test_data = data_randomized[train_test_index:].reset_index(drop=True)\n",
    "\n",
    "# check size of train and test set\n",
    "print(train_data.shape)\n",
    "print(test_data.shape)"
   ]
  },
  {
   "cell_type": "code",
   "execution_count": 6,
   "id": "914c1473",
   "metadata": {},
   "outputs": [
    {
     "data": {
      "text/plain": [
       "ham     0.705249\n",
       "spam    0.294751\n",
       "Name: Label, dtype: float64"
      ]
     },
     "execution_count": 6,
     "metadata": {},
     "output_type": "execute_result"
    }
   ],
   "source": [
    "# check distribution of classes in training data\n",
    "train_data['Label'].value_counts(normalize=True)"
   ]
  },
  {
   "cell_type": "code",
   "execution_count": 7,
   "id": "384b1e21",
   "metadata": {},
   "outputs": [
    {
     "data": {
      "text/plain": [
       "ham     0.72147\n",
       "spam    0.27853\n",
       "Name: Label, dtype: float64"
      ]
     },
     "execution_count": 7,
     "metadata": {},
     "output_type": "execute_result"
    }
   ],
   "source": [
    "# check distribution of classes in test data\n",
    "test_data['Label'].value_counts(normalize=True)"
   ]
  },
  {
   "cell_type": "code",
   "execution_count": 8,
   "id": "ee0d8a53",
   "metadata": {},
   "outputs": [
    {
     "data": {
      "text/html": [
       "<div>\n",
       "<style scoped>\n",
       "    .dataframe tbody tr th:only-of-type {\n",
       "        vertical-align: middle;\n",
       "    }\n",
       "\n",
       "    .dataframe tbody tr th {\n",
       "        vertical-align: top;\n",
       "    }\n",
       "\n",
       "    .dataframe thead th {\n",
       "        text-align: right;\n",
       "    }\n",
       "</style>\n",
       "<table border=\"1\" class=\"dataframe\">\n",
       "  <thead>\n",
       "    <tr style=\"text-align: right;\">\n",
       "      <th></th>\n",
       "      <th>anon</th>\n",
       "      <th>Label</th>\n",
       "      <th>Mail</th>\n",
       "      <th>label_num</th>\n",
       "    </tr>\n",
       "  </thead>\n",
       "  <tbody>\n",
       "    <tr>\n",
       "      <th>0</th>\n",
       "      <td>3430</td>\n",
       "      <td>ham</td>\n",
       "      <td>Subject: what the heck\\r\\ndaren ,\\r\\nnow what ...</td>\n",
       "      <td>0</td>\n",
       "    </tr>\n",
       "    <tr>\n",
       "      <th>1</th>\n",
       "      <td>2070</td>\n",
       "      <td>ham</td>\n",
       "      <td>Subject: hilcorp old ocean volume\\r\\naccording...</td>\n",
       "      <td>0</td>\n",
       "    </tr>\n",
       "    <tr>\n",
       "      <th>2</th>\n",
       "      <td>3974</td>\n",
       "      <td>spam</td>\n",
       "      <td>Subject: jurirne get latest softwares , 99 % s...</td>\n",
       "      <td>1</td>\n",
       "    </tr>\n",
       "  </tbody>\n",
       "</table>\n",
       "</div>"
      ],
      "text/plain": [
       "   anon Label                                               Mail  label_num\n",
       "0  3430   ham  Subject: what the heck\\r\\ndaren ,\\r\\nnow what ...          0\n",
       "1  2070   ham  Subject: hilcorp old ocean volume\\r\\naccording...          0\n",
       "2  3974  spam  Subject: jurirne get latest softwares , 99 % s...          1"
      ]
     },
     "execution_count": 8,
     "metadata": {},
     "output_type": "execute_result"
    }
   ],
   "source": [
    "# look at data before cleaning up\n",
    "train_data.head(3)"
   ]
  },
  {
   "cell_type": "code",
   "execution_count": 9,
   "id": "06d35b53",
   "metadata": {},
   "outputs": [
    {
     "name": "stderr",
     "output_type": "stream",
     "text": [
      "/var/folders/6j/0k5_2jgs60q7ncnfml3bkv9m0000gn/T/ipykernel_43452/3628595230.py:2: FutureWarning: The default value of regex will change from True to False in a future version.\n",
      "  train_data['Mail'] = train_data['Mail'].str.replace('\\W', ' ') # remove punctuation with regular expression\n"
     ]
    },
    {
     "data": {
      "text/html": [
       "<div>\n",
       "<style scoped>\n",
       "    .dataframe tbody tr th:only-of-type {\n",
       "        vertical-align: middle;\n",
       "    }\n",
       "\n",
       "    .dataframe tbody tr th {\n",
       "        vertical-align: top;\n",
       "    }\n",
       "\n",
       "    .dataframe thead th {\n",
       "        text-align: right;\n",
       "    }\n",
       "</style>\n",
       "<table border=\"1\" class=\"dataframe\">\n",
       "  <thead>\n",
       "    <tr style=\"text-align: right;\">\n",
       "      <th></th>\n",
       "      <th>anon</th>\n",
       "      <th>Label</th>\n",
       "      <th>Mail</th>\n",
       "      <th>label_num</th>\n",
       "    </tr>\n",
       "  </thead>\n",
       "  <tbody>\n",
       "    <tr>\n",
       "      <th>0</th>\n",
       "      <td>3430</td>\n",
       "      <td>ham</td>\n",
       "      <td>subject  what the heck  daren    now what   i ...</td>\n",
       "      <td>0</td>\n",
       "    </tr>\n",
       "    <tr>\n",
       "      <th>1</th>\n",
       "      <td>2070</td>\n",
       "      <td>ham</td>\n",
       "      <td>subject  hilcorp old ocean volume  according t...</td>\n",
       "      <td>0</td>\n",
       "    </tr>\n",
       "    <tr>\n",
       "      <th>2</th>\n",
       "      <td>3974</td>\n",
       "      <td>spam</td>\n",
       "      <td>subject  jurirne get latest softwares   99   s...</td>\n",
       "      <td>1</td>\n",
       "    </tr>\n",
       "  </tbody>\n",
       "</table>\n",
       "</div>"
      ],
      "text/plain": [
       "   anon Label                                               Mail  label_num\n",
       "0  3430   ham  subject  what the heck  daren    now what   i ...          0\n",
       "1  2070   ham  subject  hilcorp old ocean volume  according t...          0\n",
       "2  3974  spam  subject  jurirne get latest softwares   99   s...          1"
      ]
     },
     "execution_count": 9,
     "metadata": {},
     "output_type": "execute_result"
    }
   ],
   "source": [
    "# clean the data\n",
    "train_data['Mail'] = train_data['Mail'].str.replace('\\W', ' ') # remove punctuation with regular expression\n",
    "train_data['Mail'] = train_data['Mail'].str.lower()  # make everything lowercase\n",
    "train_data.head(3)  # look at clean data"
   ]
  },
  {
   "cell_type": "code",
   "execution_count": 10,
   "id": "27f608c0",
   "metadata": {},
   "outputs": [],
   "source": [
    "# train data as list\n",
    "train_data['Mail'] = train_data['Mail'].str.split()\n",
    "\n",
    "# create vocabulary\n",
    "vocabulary = []\n",
    "for mail in train_data['Mail']:\n",
    "   for word in mail:\n",
    "      vocabulary.append(word)\n",
    "\n",
    "# use set to deduplicate (as sets allow no duplicates) and change back to list -> easy deduplication\n",
    "vocabulary = list(set(vocabulary))"
   ]
  },
  {
   "cell_type": "code",
   "execution_count": 11,
   "id": "4c3bd28f",
   "metadata": {},
   "outputs": [
    {
     "data": {
      "text/plain": [
       "41198"
      ]
     },
     "execution_count": 11,
     "metadata": {},
     "output_type": "execute_result"
    }
   ],
   "source": [
    "# check size of the vocabulary\n",
    "len(vocabulary)"
   ]
  },
  {
   "cell_type": "code",
   "execution_count": 12,
   "id": "c4dcfc09",
   "metadata": {},
   "outputs": [],
   "source": [
    "# create word count 'matrix'\n",
    "word_counts_per_mail = {unique_word: [0] * len(train_data['Mail']) for unique_word in vocabulary}\n",
    "\n",
    "for index, mail in enumerate(train_data['Mail']):\n",
    "   for word in mail:\n",
    "      word_counts_per_mail[word][index] += 1"
   ]
  },
  {
   "cell_type": "code",
   "execution_count": 13,
   "id": "d6bab3d8",
   "metadata": {},
   "outputs": [
    {
     "data": {
      "text/html": [
       "<div>\n",
       "<style scoped>\n",
       "    .dataframe tbody tr th:only-of-type {\n",
       "        vertical-align: middle;\n",
       "    }\n",
       "\n",
       "    .dataframe tbody tr th {\n",
       "        vertical-align: top;\n",
       "    }\n",
       "\n",
       "    .dataframe thead th {\n",
       "        text-align: right;\n",
       "    }\n",
       "</style>\n",
       "<table border=\"1\" class=\"dataframe\">\n",
       "  <thead>\n",
       "    <tr style=\"text-align: right;\">\n",
       "      <th></th>\n",
       "      <th>acjab</th>\n",
       "      <th>gms</th>\n",
       "      <th>bootstrap</th>\n",
       "      <th>stayed</th>\n",
       "      <th>booth</th>\n",
       "      <th>ces</th>\n",
       "      <th>kishore</th>\n",
       "      <th>msidqi</th>\n",
       "      <th>cartie</th>\n",
       "      <th>investigations</th>\n",
       "      <th>...</th>\n",
       "      <th>sixth</th>\n",
       "      <th>recieves</th>\n",
       "      <th>limit</th>\n",
       "      <th>structure</th>\n",
       "      <th>relaxing</th>\n",
       "      <th>zeil</th>\n",
       "      <th>paragraph</th>\n",
       "      <th>divest</th>\n",
       "      <th>446555</th>\n",
       "      <th>polarogram</th>\n",
       "    </tr>\n",
       "  </thead>\n",
       "  <tbody>\n",
       "    <tr>\n",
       "      <th>0</th>\n",
       "      <td>0</td>\n",
       "      <td>0</td>\n",
       "      <td>0</td>\n",
       "      <td>0</td>\n",
       "      <td>0</td>\n",
       "      <td>0</td>\n",
       "      <td>0</td>\n",
       "      <td>0</td>\n",
       "      <td>0</td>\n",
       "      <td>0</td>\n",
       "      <td>...</td>\n",
       "      <td>0</td>\n",
       "      <td>0</td>\n",
       "      <td>0</td>\n",
       "      <td>0</td>\n",
       "      <td>0</td>\n",
       "      <td>0</td>\n",
       "      <td>0</td>\n",
       "      <td>0</td>\n",
       "      <td>0</td>\n",
       "      <td>0</td>\n",
       "    </tr>\n",
       "    <tr>\n",
       "      <th>1</th>\n",
       "      <td>0</td>\n",
       "      <td>0</td>\n",
       "      <td>0</td>\n",
       "      <td>0</td>\n",
       "      <td>0</td>\n",
       "      <td>0</td>\n",
       "      <td>0</td>\n",
       "      <td>0</td>\n",
       "      <td>0</td>\n",
       "      <td>0</td>\n",
       "      <td>...</td>\n",
       "      <td>0</td>\n",
       "      <td>0</td>\n",
       "      <td>0</td>\n",
       "      <td>0</td>\n",
       "      <td>0</td>\n",
       "      <td>0</td>\n",
       "      <td>0</td>\n",
       "      <td>0</td>\n",
       "      <td>0</td>\n",
       "      <td>0</td>\n",
       "    </tr>\n",
       "    <tr>\n",
       "      <th>2</th>\n",
       "      <td>0</td>\n",
       "      <td>0</td>\n",
       "      <td>0</td>\n",
       "      <td>0</td>\n",
       "      <td>0</td>\n",
       "      <td>0</td>\n",
       "      <td>0</td>\n",
       "      <td>0</td>\n",
       "      <td>0</td>\n",
       "      <td>0</td>\n",
       "      <td>...</td>\n",
       "      <td>0</td>\n",
       "      <td>0</td>\n",
       "      <td>0</td>\n",
       "      <td>0</td>\n",
       "      <td>0</td>\n",
       "      <td>0</td>\n",
       "      <td>0</td>\n",
       "      <td>0</td>\n",
       "      <td>0</td>\n",
       "      <td>0</td>\n",
       "    </tr>\n",
       "    <tr>\n",
       "      <th>3</th>\n",
       "      <td>0</td>\n",
       "      <td>0</td>\n",
       "      <td>0</td>\n",
       "      <td>0</td>\n",
       "      <td>0</td>\n",
       "      <td>0</td>\n",
       "      <td>0</td>\n",
       "      <td>0</td>\n",
       "      <td>0</td>\n",
       "      <td>0</td>\n",
       "      <td>...</td>\n",
       "      <td>0</td>\n",
       "      <td>0</td>\n",
       "      <td>0</td>\n",
       "      <td>0</td>\n",
       "      <td>0</td>\n",
       "      <td>0</td>\n",
       "      <td>0</td>\n",
       "      <td>0</td>\n",
       "      <td>0</td>\n",
       "      <td>0</td>\n",
       "    </tr>\n",
       "    <tr>\n",
       "      <th>4</th>\n",
       "      <td>0</td>\n",
       "      <td>0</td>\n",
       "      <td>0</td>\n",
       "      <td>0</td>\n",
       "      <td>0</td>\n",
       "      <td>0</td>\n",
       "      <td>0</td>\n",
       "      <td>0</td>\n",
       "      <td>0</td>\n",
       "      <td>0</td>\n",
       "      <td>...</td>\n",
       "      <td>0</td>\n",
       "      <td>0</td>\n",
       "      <td>0</td>\n",
       "      <td>0</td>\n",
       "      <td>0</td>\n",
       "      <td>0</td>\n",
       "      <td>0</td>\n",
       "      <td>0</td>\n",
       "      <td>0</td>\n",
       "      <td>0</td>\n",
       "    </tr>\n",
       "  </tbody>\n",
       "</table>\n",
       "<p>5 rows × 41198 columns</p>\n",
       "</div>"
      ],
      "text/plain": [
       "   acjab  gms  bootstrap  stayed  booth  ces  kishore  msidqi  cartie  \\\n",
       "0      0    0          0       0      0    0        0       0       0   \n",
       "1      0    0          0       0      0    0        0       0       0   \n",
       "2      0    0          0       0      0    0        0       0       0   \n",
       "3      0    0          0       0      0    0        0       0       0   \n",
       "4      0    0          0       0      0    0        0       0       0   \n",
       "\n",
       "   investigations  ...  sixth  recieves  limit  structure  relaxing  zeil  \\\n",
       "0               0  ...      0         0      0          0         0     0   \n",
       "1               0  ...      0         0      0          0         0     0   \n",
       "2               0  ...      0         0      0          0         0     0   \n",
       "3               0  ...      0         0      0          0         0     0   \n",
       "4               0  ...      0         0      0          0         0     0   \n",
       "\n",
       "   paragraph  divest  446555  polarogram  \n",
       "0          0       0       0           0  \n",
       "1          0       0       0           0  \n",
       "2          0       0       0           0  \n",
       "3          0       0       0           0  \n",
       "4          0       0       0           0  \n",
       "\n",
       "[5 rows x 41198 columns]"
      ]
     },
     "execution_count": 13,
     "metadata": {},
     "output_type": "execute_result"
    }
   ],
   "source": [
    "# store word count in pd.DataFrame\n",
    "word_counts = pd.DataFrame(word_counts_per_mail)\n",
    "word_counts.head()  # take a quick look"
   ]
  },
  {
   "cell_type": "code",
   "execution_count": 14,
   "id": "54d89d2b",
   "metadata": {},
   "outputs": [
    {
     "data": {
      "text/html": [
       "<div>\n",
       "<style scoped>\n",
       "    .dataframe tbody tr th:only-of-type {\n",
       "        vertical-align: middle;\n",
       "    }\n",
       "\n",
       "    .dataframe tbody tr th {\n",
       "        vertical-align: top;\n",
       "    }\n",
       "\n",
       "    .dataframe thead th {\n",
       "        text-align: right;\n",
       "    }\n",
       "</style>\n",
       "<table border=\"1\" class=\"dataframe\">\n",
       "  <thead>\n",
       "    <tr style=\"text-align: right;\">\n",
       "      <th></th>\n",
       "      <th>anon</th>\n",
       "      <th>Label</th>\n",
       "      <th>Mail</th>\n",
       "      <th>label_num</th>\n",
       "      <th>acjab</th>\n",
       "      <th>gms</th>\n",
       "      <th>bootstrap</th>\n",
       "      <th>stayed</th>\n",
       "      <th>booth</th>\n",
       "      <th>ces</th>\n",
       "      <th>...</th>\n",
       "      <th>sixth</th>\n",
       "      <th>recieves</th>\n",
       "      <th>limit</th>\n",
       "      <th>structure</th>\n",
       "      <th>relaxing</th>\n",
       "      <th>zeil</th>\n",
       "      <th>paragraph</th>\n",
       "      <th>divest</th>\n",
       "      <th>446555</th>\n",
       "      <th>polarogram</th>\n",
       "    </tr>\n",
       "  </thead>\n",
       "  <tbody>\n",
       "    <tr>\n",
       "      <th>0</th>\n",
       "      <td>3430</td>\n",
       "      <td>ham</td>\n",
       "      <td>[subject, what, the, heck, daren, now, what, i...</td>\n",
       "      <td>0</td>\n",
       "      <td>0</td>\n",
       "      <td>0</td>\n",
       "      <td>0</td>\n",
       "      <td>0</td>\n",
       "      <td>0</td>\n",
       "      <td>0</td>\n",
       "      <td>...</td>\n",
       "      <td>0</td>\n",
       "      <td>0</td>\n",
       "      <td>0</td>\n",
       "      <td>0</td>\n",
       "      <td>0</td>\n",
       "      <td>0</td>\n",
       "      <td>0</td>\n",
       "      <td>0</td>\n",
       "      <td>0</td>\n",
       "      <td>0</td>\n",
       "    </tr>\n",
       "    <tr>\n",
       "      <th>1</th>\n",
       "      <td>2070</td>\n",
       "      <td>ham</td>\n",
       "      <td>[subject, hilcorp, old, ocean, volume, accordi...</td>\n",
       "      <td>0</td>\n",
       "      <td>0</td>\n",
       "      <td>0</td>\n",
       "      <td>0</td>\n",
       "      <td>0</td>\n",
       "      <td>0</td>\n",
       "      <td>0</td>\n",
       "      <td>...</td>\n",
       "      <td>0</td>\n",
       "      <td>0</td>\n",
       "      <td>0</td>\n",
       "      <td>0</td>\n",
       "      <td>0</td>\n",
       "      <td>0</td>\n",
       "      <td>0</td>\n",
       "      <td>0</td>\n",
       "      <td>0</td>\n",
       "      <td>0</td>\n",
       "    </tr>\n",
       "    <tr>\n",
       "      <th>2</th>\n",
       "      <td>3974</td>\n",
       "      <td>spam</td>\n",
       "      <td>[subject, jurirne, get, latest, softwares, 99,...</td>\n",
       "      <td>1</td>\n",
       "      <td>0</td>\n",
       "      <td>0</td>\n",
       "      <td>0</td>\n",
       "      <td>0</td>\n",
       "      <td>0</td>\n",
       "      <td>0</td>\n",
       "      <td>...</td>\n",
       "      <td>0</td>\n",
       "      <td>0</td>\n",
       "      <td>0</td>\n",
       "      <td>0</td>\n",
       "      <td>0</td>\n",
       "      <td>0</td>\n",
       "      <td>0</td>\n",
       "      <td>0</td>\n",
       "      <td>0</td>\n",
       "      <td>0</td>\n",
       "    </tr>\n",
       "    <tr>\n",
       "      <th>3</th>\n",
       "      <td>1502</td>\n",
       "      <td>ham</td>\n",
       "      <td>[subject, sitara, patch, a, patch, is, being, ...</td>\n",
       "      <td>0</td>\n",
       "      <td>0</td>\n",
       "      <td>0</td>\n",
       "      <td>0</td>\n",
       "      <td>0</td>\n",
       "      <td>0</td>\n",
       "      <td>0</td>\n",
       "      <td>...</td>\n",
       "      <td>0</td>\n",
       "      <td>0</td>\n",
       "      <td>0</td>\n",
       "      <td>0</td>\n",
       "      <td>0</td>\n",
       "      <td>0</td>\n",
       "      <td>0</td>\n",
       "      <td>0</td>\n",
       "      <td>0</td>\n",
       "      <td>0</td>\n",
       "    </tr>\n",
       "    <tr>\n",
       "      <th>4</th>\n",
       "      <td>4591</td>\n",
       "      <td>spam</td>\n",
       "      <td>[subject, archived, great, shots, of, californ...</td>\n",
       "      <td>1</td>\n",
       "      <td>0</td>\n",
       "      <td>0</td>\n",
       "      <td>0</td>\n",
       "      <td>0</td>\n",
       "      <td>0</td>\n",
       "      <td>0</td>\n",
       "      <td>...</td>\n",
       "      <td>0</td>\n",
       "      <td>0</td>\n",
       "      <td>0</td>\n",
       "      <td>0</td>\n",
       "      <td>0</td>\n",
       "      <td>0</td>\n",
       "      <td>0</td>\n",
       "      <td>0</td>\n",
       "      <td>0</td>\n",
       "      <td>0</td>\n",
       "    </tr>\n",
       "  </tbody>\n",
       "</table>\n",
       "<p>5 rows × 41202 columns</p>\n",
       "</div>"
      ],
      "text/plain": [
       "   anon Label                                               Mail  label_num  \\\n",
       "0  3430   ham  [subject, what, the, heck, daren, now, what, i...          0   \n",
       "1  2070   ham  [subject, hilcorp, old, ocean, volume, accordi...          0   \n",
       "2  3974  spam  [subject, jurirne, get, latest, softwares, 99,...          1   \n",
       "3  1502   ham  [subject, sitara, patch, a, patch, is, being, ...          0   \n",
       "4  4591  spam  [subject, archived, great, shots, of, californ...          1   \n",
       "\n",
       "   acjab  gms  bootstrap  stayed  booth  ces  ...  sixth  recieves  limit  \\\n",
       "0      0    0          0       0      0    0  ...      0         0      0   \n",
       "1      0    0          0       0      0    0  ...      0         0      0   \n",
       "2      0    0          0       0      0    0  ...      0         0      0   \n",
       "3      0    0          0       0      0    0  ...      0         0      0   \n",
       "4      0    0          0       0      0    0  ...      0         0      0   \n",
       "\n",
       "   structure  relaxing  zeil  paragraph  divest  446555  polarogram  \n",
       "0          0         0     0          0       0       0           0  \n",
       "1          0         0     0          0       0       0           0  \n",
       "2          0         0     0          0       0       0           0  \n",
       "3          0         0     0          0       0       0           0  \n",
       "4          0         0     0          0       0       0           0  \n",
       "\n",
       "[5 rows x 41202 columns]"
      ]
     },
     "execution_count": 14,
     "metadata": {},
     "output_type": "execute_result"
    }
   ],
   "source": [
    "# add the word counts to the train data\n",
    "train_data_clean = pd.concat([train_data, word_counts], axis=1)\n",
    "train_data_clean.head()  # take a quick look once again"
   ]
  },
  {
   "cell_type": "code",
   "execution_count": 15,
   "id": "d78a40ab",
   "metadata": {},
   "outputs": [],
   "source": [
    "# separate spam from ham\n",
    "spam_mails = train_data_clean[train_data_clean['Label'] == 'spam']\n",
    "ham_mails = train_data_clean[train_data_clean['Label'] == 'ham']\n",
    "\n",
    "# calculate absolute probabilities for spam and ham (for train_data_clean)\n",
    "p_spam = len(spam_mails) / len(train_data_clean)\n",
    "p_ham = len(ham_mails) / len(train_data_clean)\n",
    "\n",
    "# amount of words of spam in total\n",
    "n_words_per_spam_mail = spam_mails['Mail'].apply(len)\n",
    "n_spam = n_words_per_spam_mail.sum()\n",
    "\n",
    "# amount of words of ham in total\n",
    "n_words_per_ham_message = ham_mails['Mail'].apply(len)\n",
    "n_ham = n_words_per_ham_message.sum()\n",
    "\n",
    "# amount of words in vocabulary\n",
    "n_vocabulary = len(vocabulary)\n",
    "\n",
    "# Laplacian smoothing\n",
    "alpha = 1"
   ]
  },
  {
   "cell_type": "code",
   "execution_count": 16,
   "id": "5afe820b",
   "metadata": {},
   "outputs": [],
   "source": [
    "# initial params\n",
    "parameters_spam = {unique_word:0 for unique_word in vocabulary}\n",
    "parameters_ham = {unique_word:0 for unique_word in vocabulary}\n",
    "\n",
    "# calculate params\n",
    "for word in vocabulary:\n",
    "   n_word_given_spam = spam_mails[word].sum() # spam_mails defined above\n",
    "   p_word_given_spam = (n_word_given_spam + alpha) / (n_spam + alpha*n_vocabulary)\n",
    "   parameters_spam[word] = p_word_given_spam\n",
    "\n",
    "   n_word_given_ham = ham_mails[word].sum() # ham_mails defined above\n",
    "   p_word_given_ham = (n_word_given_ham + alpha) / (n_ham + alpha*n_vocabulary)\n",
    "   parameters_ham[word] = p_word_given_ham"
   ]
  },
  {
   "cell_type": "code",
   "execution_count": 17,
   "id": "37791aee",
   "metadata": {},
   "outputs": [],
   "source": [
    "# defining a function to classify mails as spam or ham\n",
    "def classify(mail):\n",
    "   mail = re.sub('\\W', ' ', mail)  # remove punctuation\n",
    "   mail = mail.lower().split()  # make everything lowercase and split into a list\n",
    "\n",
    "   # probability of being given a spam or ham mail\n",
    "   p_spam_given_mail = p_spam\n",
    "   p_ham_given_mail = p_ham\n",
    "\n",
    "   # calculate probability of spam or ham given the mail\n",
    "   for word in mail:\n",
    "      if word in parameters_spam:\n",
    "         p_spam_given_mail *= parameters_spam[word]\n",
    "\n",
    "      if word in parameters_ham: \n",
    "         p_ham_given_mail *= parameters_ham[word]\n",
    "\n",
    "   # print probabilities\n",
    "   print(f'P(spam|mail): {p_spam_given_mail}')\n",
    "   print(f'P(ham|mail): {p_ham_given_mail}')\n",
    "\n",
    "   # print class\n",
    "   if p_ham_given_mail > p_spam_given_mail:\n",
    "      print('This is not spam, but ham!')\n",
    "   elif p_ham_given_mail < p_spam_given_mail:\n",
    "      print('This is spam!')\n",
    "   else:\n",
    "      print('Cannot classify!')  # classification is not possible if the probabilities are equal"
   ]
  },
  {
   "cell_type": "code",
   "execution_count": 18,
   "id": "9e13e599",
   "metadata": {},
   "outputs": [
    {
     "name": "stdout",
     "output_type": "stream",
     "text": [
      "P(spam|mail): 1.324865032925075e-26\n",
      "P(ham|mail): 3.453417684382185e-26\n",
      "This is not spam, but ham!\n"
     ]
    }
   ],
   "source": [
    "# using the classify function for examples\n",
    "classify('Hey, do you want to come hang out?')"
   ]
  },
  {
   "cell_type": "code",
   "execution_count": 19,
   "id": "71699e4f",
   "metadata": {},
   "outputs": [
    {
     "name": "stdout",
     "output_type": "stream",
     "text": [
      "P(spam|mail): 5.362055682493099e-38\n",
      "P(ham|mail): 2.86705569318837e-38\n",
      "This is spam!\n"
     ]
    }
   ],
   "source": [
    "classify('Hey, you won a car! Just call us and pick it up!')"
   ]
  },
  {
   "cell_type": "code",
   "execution_count": 20,
   "id": "6fc654ee",
   "metadata": {},
   "outputs": [],
   "source": [
    "# defining a classification function for the test data to evaluate the spam detection\n",
    "def classify_test_data(mail):\n",
    "   mail = re.sub('\\W', ' ', mail)  # remove punctuation\n",
    "   mail = mail.lower().split()  # set everything lowercase and split into a list\n",
    "\n",
    "   # probability of being a spam or ham mail\n",
    "   p_spam_given_mail = p_spam\n",
    "   p_ham_given_mail = p_ham\n",
    "\n",
    "   # calculate probabilities for spam or ham given the mail\n",
    "   for word in mail:\n",
    "      if word in parameters_spam:\n",
    "         p_spam_given_mail *= parameters_spam[word]\n",
    "\n",
    "      if word in parameters_ham:\n",
    "         p_ham_given_mail *= parameters_ham[word]\n",
    "\n",
    "   # return classification, no print needed here!\n",
    "   if p_ham_given_mail > p_spam_given_mail:\n",
    "      return 'ham'\n",
    "   elif p_spam_given_mail > p_ham_given_mail:\n",
    "      return 'spam'\n",
    "   else:\n",
    "      return 'Cannot classify!'  # in case of equal probabilities"
   ]
  },
  {
   "cell_type": "code",
   "execution_count": 21,
   "id": "5616a601",
   "metadata": {},
   "outputs": [
    {
     "data": {
      "text/html": [
       "<div>\n",
       "<style scoped>\n",
       "    .dataframe tbody tr th:only-of-type {\n",
       "        vertical-align: middle;\n",
       "    }\n",
       "\n",
       "    .dataframe tbody tr th {\n",
       "        vertical-align: top;\n",
       "    }\n",
       "\n",
       "    .dataframe thead th {\n",
       "        text-align: right;\n",
       "    }\n",
       "</style>\n",
       "<table border=\"1\" class=\"dataframe\">\n",
       "  <thead>\n",
       "    <tr style=\"text-align: right;\">\n",
       "      <th></th>\n",
       "      <th>anon</th>\n",
       "      <th>Label</th>\n",
       "      <th>Mail</th>\n",
       "      <th>label_num</th>\n",
       "      <th>predicted</th>\n",
       "    </tr>\n",
       "  </thead>\n",
       "  <tbody>\n",
       "    <tr>\n",
       "      <th>0</th>\n",
       "      <td>4865</td>\n",
       "      <td>spam</td>\n",
       "      <td>Subject: something unusual\\r\\njust her size . ...</td>\n",
       "      <td>1</td>\n",
       "      <td>spam</td>\n",
       "    </tr>\n",
       "    <tr>\n",
       "      <th>1</th>\n",
       "      <td>552</td>\n",
       "      <td>ham</td>\n",
       "      <td>Subject: during / after hours contact informat...</td>\n",
       "      <td>0</td>\n",
       "      <td>ham</td>\n",
       "    </tr>\n",
       "    <tr>\n",
       "      <th>2</th>\n",
       "      <td>2311</td>\n",
       "      <td>ham</td>\n",
       "      <td>Subject: hpl noms - dec . 30 - 31 , 2000 and j...</td>\n",
       "      <td>0</td>\n",
       "      <td>ham</td>\n",
       "    </tr>\n",
       "    <tr>\n",
       "      <th>3</th>\n",
       "      <td>3045</td>\n",
       "      <td>ham</td>\n",
       "      <td>Subject: account activated\\r\\nthank you for re...</td>\n",
       "      <td>0</td>\n",
       "      <td>Cannot classify!</td>\n",
       "    </tr>\n",
       "    <tr>\n",
       "      <th>4</th>\n",
       "      <td>821</td>\n",
       "      <td>ham</td>\n",
       "      <td>Subject: may nom\\r\\ndaren the stuff outlined i...</td>\n",
       "      <td>0</td>\n",
       "      <td>Cannot classify!</td>\n",
       "    </tr>\n",
       "  </tbody>\n",
       "</table>\n",
       "</div>"
      ],
      "text/plain": [
       "   anon Label                                               Mail  label_num  \\\n",
       "0  4865  spam  Subject: something unusual\\r\\njust her size . ...          1   \n",
       "1   552   ham  Subject: during / after hours contact informat...          0   \n",
       "2  2311   ham  Subject: hpl noms - dec . 30 - 31 , 2000 and j...          0   \n",
       "3  3045   ham  Subject: account activated\\r\\nthank you for re...          0   \n",
       "4   821   ham  Subject: may nom\\r\\ndaren the stuff outlined i...          0   \n",
       "\n",
       "          predicted  \n",
       "0              spam  \n",
       "1               ham  \n",
       "2               ham  \n",
       "3  Cannot classify!  \n",
       "4  Cannot classify!  "
      ]
     },
     "execution_count": 21,
     "metadata": {},
     "output_type": "execute_result"
    }
   ],
   "source": [
    "# apply classify_test_data() on test data\n",
    "test_data['predicted'] = test_data['Mail'].apply(classify_test_data)\n",
    "test_data.head()"
   ]
  },
  {
   "cell_type": "code",
   "execution_count": 22,
   "id": "8dd15cf2",
   "metadata": {},
   "outputs": [
    {
     "name": "stdout",
     "output_type": "stream",
     "text": [
      "true positive: 220\n",
      "true negative: 619\n",
      "false positive: 2\n",
      "false negative: 25\n",
      "Cannot classify: 685\n",
      "total predictions: 1551\n",
      "Accuracy with (total-no_classification): 0.9688221709006929\n",
      "Accuracy: 0.5409413281753708\n",
      "Precision: 0.990990990990991\n",
      "Recall: 0.8979591836734694\n",
      "F1 score: 0.9421841541755889\n"
     ]
    }
   ],
   "source": [
    "tp = 0  # true positive (here: identified spam as spam)\n",
    "tn = 0  # true negative (here: identified ham as ham)\n",
    "fp = 0  # false positive (here: identified ham as spam)\n",
    "fn = 0  # false negative (here: identified spam as ham)\n",
    "no_classification = 0\n",
    "\n",
    "total = test_data.shape[0]  # amount of predictions\n",
    "\n",
    "# calculate tp, tn, fp, fn\n",
    "for row in test_data.iterrows():  # iterate over all rows\n",
    "   row = row[1]\n",
    "   if row['Label'] == row['predicted']:\n",
    "      if row['predicted'] == 'spam':\n",
    "         tp += 1\n",
    "      elif row['predicted'] == 'ham':\n",
    "         tn += 1\n",
    "      else:\n",
    "         pass\n",
    "   elif row['predicted'] == 'spam':\n",
    "      fp += 1\n",
    "   elif row['predicted'] == 'ham':\n",
    "      fn += 1\n",
    "   elif row['predicted'] == 'Cannot classify!':\n",
    "      no_classification += 1\n",
    "   else:\n",
    "      pass\n",
    "\n",
    "print(f'true positive: {tp}')\n",
    "print(f'true negative: {tn}')\n",
    "print(f'false positive: {fp}')\n",
    "print(f'false negative: {fn}')\n",
    "print(f'Cannot classify: {no_classification}')\n",
    "print(f'total predictions: {total}')\n",
    "\n",
    "# calculate accuracy without no class in total\n",
    "correct = tp + tn\n",
    "acc_without_no_class = correct/(total-no_classification)\n",
    "# print accuracy\n",
    "print(f'Accuracy with (total-no_classification): {acc_without_no_class}')\n",
    "\n",
    "# calculate accuracy\n",
    "correct = tp + tn\n",
    "acc = correct/total\n",
    "# print accuracy\n",
    "print(f'Accuracy: {acc}')\n",
    "\n",
    "# calculate precision\n",
    "prec = tp / (tp + fp)\n",
    "# print precision\n",
    "print(f'Precision: {prec}')\n",
    "\n",
    "# calculate recall\n",
    "rec = tp / (tp + fn)\n",
    "# print recall\n",
    "print(f'Recall: {rec}')\n",
    "\n",
    "# calculate F1 score\n",
    "f1 = (2 * prec * rec) / (prec + rec)\n",
    "# print f1 score\n",
    "print(f'F1 score: {f1}')"
   ]
  },
  {
   "cell_type": "code",
   "execution_count": null,
   "id": "fa931049",
   "metadata": {
    "collapsed": false,
    "jupyter": {
     "outputs_hidden": false
    },
    "pycharm": {
     "name": "#%%\n"
    }
   },
   "outputs": [],
   "source": []
  }
 ],
 "metadata": {
  "kernelspec": {
   "display_name": "Python 3 (ipykernel)",
   "language": "python",
   "name": "python3"
  },
  "language_info": {
   "codemirror_mode": {
    "name": "ipython",
    "version": 3
   },
   "file_extension": ".py",
   "mimetype": "text/x-python",
   "name": "python",
   "nbconvert_exporter": "python",
   "pygments_lexer": "ipython3",
   "version": "3.9.7"
  },
  "vscode": {
   "interpreter": {
    "hash": "be72d49955656a6a08bd99aa1e690c100a130fce597e93fc90de749db401895f"
   }
  }
 },
 "nbformat": 4,
 "nbformat_minor": 5
}
